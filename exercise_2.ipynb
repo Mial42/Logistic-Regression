{
  "cells": [
    {
      "cell_type": "markdown",
      "id": "17cbf9ac",
      "metadata": {
        "id": "17cbf9ac"
      },
      "source": [
        "# CSCI 416 - HW2\n",
        "\n",
        "### Name: Nicholas Wilson"
      ]
    },
    {
      "cell_type": "code",
      "execution_count": null,
      "id": "2acbf133",
      "metadata": {
        "id": "2acbf133"
      },
      "outputs": [],
      "source": []
    },
    {
      "cell_type": "markdown",
      "id": "6faeda1a",
      "metadata": {
        "id": "6faeda1a"
      },
      "source": [
        "# <font color='red'>Problem 2</font>\n"
      ]
    },
    {
      "cell_type": "markdown",
      "id": "1d584e0a",
      "metadata": {
        "id": "1d584e0a"
      },
      "source": [
        "# Implement Logistic Regression for Book Classification\n",
        "\n",
        "This notebook does the following:\n",
        "\n",
        "* Loads a data set for predicting whether a book is hardcover or paperback from two input features: the thickness of the book and the weight of the book\n",
        "* Normalizes the features\n",
        "* Has a placeholder for your implementation of logistic regression\n",
        "* Plots the data and the decision boundary of the learned model\n",
        "\n",
        "Read below and follow instructions to complete the implementation.\n",
        "\n",
        "## Setup\n",
        "Run the code below to import modules, etc."
      ]
    },
    {
      "cell_type": "code",
      "execution_count": 1,
      "id": "95a49ec1",
      "metadata": {
        "id": "95a49ec1"
      },
      "outputs": [],
      "source": [
        "%matplotlib inline\n",
        "%reload_ext autoreload\n",
        "%autoreload 2\n",
        "\n",
        "import numpy as np\n",
        "import matplotlib.pyplot as plt\n",
        "import pandas as pd\n",
        "\n",
        "from logistic_regression import logistic, cost_function, gradient_descent"
      ]
    },
    {
      "cell_type": "code",
      "execution_count": 2,
      "id": "c8762300",
      "metadata": {
        "id": "c8762300"
      },
      "outputs": [],
      "source": [
        "def normalize_features( X, mu=None, sigma=None ):\n",
        "    '''\n",
        "    Feature normalization\n",
        "    \n",
        "    Inputs:\n",
        "        X       m x n data matrix (either train or test)\n",
        "        mu      vector of means (length n)\n",
        "        sigma   vector of standard deviations (length n)\n",
        "\n",
        "    Outputs:\n",
        "        X_norm  normalized data matrix\n",
        "        mu      vector of means\n",
        "        sigma   vector of standard deviations\n",
        "\n",
        "    IMPORTANT NOTE: \n",
        "        When called for training data, mu and sigma should be computed \n",
        "        from X and returned for later use. When called for test data, \n",
        "        the mu and sigma should be passed in to the function and\n",
        "        *not* computed from X.\n",
        "\n",
        "    '''\n",
        "    if mu is None:\n",
        "        mu    = np.mean(X, axis=0)\n",
        "        sigma = np.std (X, axis=0)\n",
        "\n",
        "    # Don't normalize constant features \n",
        "    mu   [sigma == 0] = 0\n",
        "    sigma[sigma == 0] = 1\n",
        "    X_norm = (X - mu)/sigma\n",
        "\n",
        "    return (X_norm, mu, sigma)"
      ]
    },
    {
      "cell_type": "markdown",
      "id": "b0606032",
      "metadata": {
        "id": "b0606032"
      },
      "source": [
        "## Load and Prep Data\n",
        "*Read the code* in the cell below and run it. This loads the book data from file and selects two features to set up the training data ``X`` (data matrix) and ``y`` (label vector). It then normalizes the training data."
      ]
    },
    {
      "cell_type": "code",
      "execution_count": 3,
      "id": "2ed28e65",
      "metadata": {
        "id": "2ed28e65"
      },
      "outputs": [],
      "source": [
        "data = pd.read_csv('book-data.csv', sep=',',header=None).values\n",
        "\n",
        "# % Data columns\n",
        "# %\n",
        "# % 0 - width\n",
        "# % 1 - thickness\n",
        "# % 2 - height\n",
        "# % 3 - pages\n",
        "# % 4 - hardcover\n",
        "# % 5 - weight\n",
        "\n",
        "y = data[:,4]\n",
        "\n",
        "# % Extract the normalized features into named column vectors\n",
        "width     = data[:,0]\n",
        "thickness = data[:,1]\n",
        "height    = data[:,2]\n",
        "pages     = data[:,3]\n",
        "weight    = data[:,5]\n",
        "\n",
        "m = data.shape[0]\n",
        "X = np.stack([np.ones(m), thickness, height], axis=1)\n",
        "n = X.shape[1]\n",
        "\n",
        "X, mu, sigma = normalize_features(X)"
      ]
    },
    {
      "cell_type": "markdown",
      "id": "c4db7299",
      "metadata": {
        "id": "c4db7299"
      },
      "source": [
        "# (1 point) Implement the ``logistic`` function\n",
        "Open the file ``logistic_regression.py`` and complete the code for the function ``logistic``. Then run the cell below to plot the logistic function for $-10 \\leq z \\leq 10$ to test your implementation --- it should look like the logistic function!"
      ]
    },
    {
      "cell_type": "code",
      "execution_count": 4,
      "id": "ee63ba45",
      "metadata": {
        "id": "ee63ba45",
        "outputId": "dbb78a05-458c-436d-80f4-4d657cba8d2c",
        "colab": {
          "base_uri": "https://localhost:8080/",
          "height": 265
        }
      },
      "outputs": [
        {
          "output_type": "display_data",
          "data": {
            "text/plain": [
              "<Figure size 432x288 with 1 Axes>"
            ],
            "image/png": "[encoded data removed]"
          },
          "metadata": {
            "needs_background": "light"
          }
        }
      ],
      "source": [
        "z = np.linspace(-10, 10, 100)\n",
        "plt.plot(z, logistic(z))\n",
        "plt.show()"
      ]
    },
    {
      "cell_type": "markdown",
      "id": "6c6c0ceb",
      "metadata": {
        "id": "6c6c0ceb"
      },
      "source": [
        "# (2 points) Implement ``cost_function``\n",
        "Complete the code for ``cost_function`` in the file ``logistic_regression.py`` to implement the logistic regression cost function. Then test it with the code in the cell below."
      ]
    },
    {
      "cell_type": "code",
      "execution_count": 39,
      "id": "61e0a476",
      "metadata": {
        "id": "61e0a476",
        "outputId": "1895d212-d8f6-4ba3-925e-b1ef84684b76",
        "colab": {
          "base_uri": "https://localhost:8080/"
        }
      },
      "outputs": [
        {
          "output_type": "stream",
          "name": "stdout",
          "text": [
            "38.816242111356935\n"
          ]
        }
      ],
      "source": [
        "theta = np.zeros(n)\n",
        "\n",
        "#tmp = np.transpose(theta)\n",
        "# print(tmp)\n",
        "# print(X[2])\n",
        "# print(np.dot(tmp,X[2]))\n",
        "# print(logistic(np.dot(tmp,X[2])))\n",
        "# print(np.log(logistic(np.dot(tmp,X[2]))))\n",
        "# print(np.log(1-logistic(np.dot(tmp,X[2]))))\n",
        "\n",
        "# print(y[2])\n",
        "print(cost_function(X, y, theta)) # prints 38.81624...."
      ]
    },
    {
      "cell_type": "markdown",
      "id": "4f0ad0ca",
      "metadata": {
        "id": "4f0ad0ca"
      },
      "source": [
        "# Setup for plotting a learned model\n",
        "Run this cell and optionally read the code. It defines a function to help plot the data together with the decision boundary for the model we are about to learn."
      ]
    },
    {
      "cell_type": "code",
      "execution_count": 40,
      "id": "6c1ae50d",
      "metadata": {
        "id": "6c1ae50d"
      },
      "outputs": [],
      "source": [
        "def plot_model(X, y, theta):\n",
        "    pos = y==1\n",
        "    neg = y==0\n",
        "\n",
        "    plt.scatter(X[pos,1], X[pos,2], marker='+', color='blue', label='Hardcover')\n",
        "    plt.scatter(X[neg,1], X[neg,2], marker='o', color='red', facecolors='none', label='Paperback')\n",
        "\n",
        "    # plot the decision boundary\n",
        "    x1_min = np.min(X[:,1]) - 0.5\n",
        "    x1_max = np.max(X[:,1]) + 0.5\n",
        "\n",
        "    x1 = np.array([x1_min, x1_max])\n",
        "    x2 = (theta[0] + theta[1]*x1)/(-theta[2])\n",
        "    plt.plot(x1, x2, label='Decision boundary')\n",
        "\n",
        "    plt.xlabel('thickness (normalized)')\n",
        "    plt.ylabel('height (normalized)')\n",
        "    plt.legend(loc='lower right')\n",
        "    plt.show()"
      ]
    },
    {
      "cell_type": "markdown",
      "id": "998f62b4",
      "metadata": {
        "id": "998f62b4"
      },
      "source": [
        "# (7 points) Implement gradient descent for logistic regression\n",
        "Now complete the code for ``gradient_descent`` in the file ``logistic_regression.py``, which runs gradient descent to find the best parameters ``theta``, and write code in the cell below to:\n",
        "\n",
        "1. Call ``gradient_descent`` to learn ``theta``\n",
        "1. Print the final value of the cost function\n",
        "1. Plot J_history to assess convergence\n",
        "1. Tune the step size and number of iterations if needed until the algorithm converges and the decision boundary (see next cell) looks reasonable\n",
        "1. Print the accuracy---the percentage of correctly classified examples in the training set"
      ]
    },
    {
      "cell_type": "code",
      "execution_count": 52,
      "id": "a5df7304",
      "metadata": {
        "id": "a5df7304",
        "outputId": "4756b736-b1b7-48fc-8631-8c6b69a57c4b",
        "colab": {
          "base_uri": "https://localhost:8080/",
          "height": 562
        }
      },
      "outputs": [
        {
          "output_type": "stream",
          "name": "stdout",
          "text": [
            "26.27020134026575\n"
          ]
        },
        {
          "output_type": "display_data",
          "data": {
            "text/plain": [
              "<Figure size 432x288 with 1 Axes>"
            ],
            "image/png": "[encoded data removed]"
          },
          "metadata": {
            "needs_background": "light"
          }
        },
        {
          "output_type": "display_data",
          "data": {
            "text/plain": [
              "<Figure size 432x288 with 1 Axes>"
            ],
            "image/png": "[encoded data removed]"
          },
          "metadata": {
            "needs_background": "light"
          }
        },
        {
          "output_type": "stream",
          "name": "stdout",
          "text": [
            "Percentage Correct: 76.78571428571429\n"
          ]
        }
      ],
      "source": [
        "theta = np.zeros(n)\n",
        "\n",
        "#\n",
        "# YOUR CODE HERE\n",
        "#\n",
        "iterations = 10000\n",
        "alpha = 1e-4\n",
        "theta, costs = gradient_descent(X,y,theta,alpha,iterations)\n",
        "print(costs[-1]) #Final costs\n",
        "\n",
        "# Plots data and decision boundary. If you have learned a good theta\n",
        "# you will see a decision boundary that separates the data in a \n",
        "# reasonable way.\n",
        "plot_model(X, y, theta) \n",
        "plt.show()\n",
        "plt.plot([i for i in range(iterations)], costs, marker='o', linestyle='none')\n",
        "plt.show()\n",
        "\n",
        "my_results = np.dot(X,theta)\n",
        "accuracy = 0\n",
        "for i in range(y.size):\n",
        "  if my_results[i] < 0 and y[i] == 0 or my_results[i] > 0 and y[i] == 1:\n",
        "    accuracy = accuracy + 1\n",
        "percentage_correct = (accuracy / y.size) * 100\n",
        "print(\"Percentage Correct: \" + str(percentage_correct))"
      ]
    },
    {
      "cell_type": "code",
      "execution_count": null,
      "id": "93257818",
      "metadata": {
        "id": "93257818"
      },
      "outputs": [],
      "source": []
    },
    {
      "cell_type": "code",
      "execution_count": null,
      "id": "cbb74ffd",
      "metadata": {
        "id": "cbb74ffd"
      },
      "outputs": [],
      "source": []
    },
    {
      "cell_type": "markdown",
      "id": "381d8539",
      "metadata": {
        "id": "381d8539"
      },
      "source": [
        "# <font color='red'>Problem 3</font>\n"
      ]
    },
    {
      "cell_type": "markdown",
      "id": "05626ec4",
      "metadata": {
        "id": "05626ec4"
      },
      "source": [
        "# Logistic regression for SMS spam classification\n",
        "\n",
        "\n",
        "Each line of the data file `sms.txt`\n",
        "contains a label---either \"spam\" or \"ham\" (i.e. non-spam)---followed\n",
        "by a text message. Here are a few examples (line breaks added for readability):\n",
        "\n",
        "    ham     Ok lar... Joking wif u oni...\n",
        "    ham     Nah I don't think he goes to usf, he lives around here though\n",
        "    spam    Free entry in 2 a wkly comp to win FA Cup final tkts 21st May 2005.\n",
        "            Text FA to 87121 to receive entry question(std txt rate)\n",
        "            T&C's apply 08452810075over18's\n",
        "    spam    WINNER!! As a valued network customer you have been\n",
        "            selected to receivea £900 prize reward! To claim\n",
        "            call 09061701461. Claim code KL341. Valid 12 hours only.\n",
        "\n",
        "To create features suitable for logistic regression, code is provided to do the following (using tools from the ``sklearn.feature_extraction.text``):\n",
        "\n",
        "* Convert words to lowercase.\n",
        "* Remove punctuation and special characters (but convert the \\$ and\n",
        "  £ symbols to special tokens and keep them, because these are useful for predicting spam).\n",
        "* Create a dictionary containing the 3000 words that appeared\n",
        "  most frequently in the entire set of messages.\n",
        "* Encode each message as a vector $\\mathbf{x}^{(i)} \\in\n",
        "  \\mathbb{R}^{3000}$. The entry $x^{(i)}_j$ is equal to the\n",
        "  number of times the $j$th word in the dictionary appears in that\n",
        "  message.\n",
        "* Discard some ham messages to have an\n",
        "  equal number of spam and ham messages.\n",
        "* Split data into a training set of 1000 messages and a\n",
        "  test set of 400 messages.\n",
        "  \n",
        "Follow the instructions below to complete the implementation. Your job will be to:\n",
        "\n",
        "* Learn $\\boldsymbol{\\theta}$ by gradient descent\n",
        "* Plot the cost history\n",
        "* Make predictions and report the accuracy on the test set\n",
        "* Test out the classifier on a few of your own text messages"
      ]
    },
    {
      "cell_type": "markdown",
      "id": "7258a4f7",
      "metadata": {
        "id": "7258a4f7"
      },
      "source": [
        "# Load and prep data\n",
        "This cell preps the data. Take a look to see how it works, and then run it."
      ]
    },
    {
      "cell_type": "code",
      "execution_count": 24,
      "id": "e06a7d1d",
      "metadata": {
        "id": "e06a7d1d",
        "colab": {
          "base_uri": "https://localhost:8080/"
        },
        "outputId": "ae0551d7-3841-4336-f8be-541c6b9a9047"
      },
      "outputs": [
        {
          "output_type": "stream",
          "name": "stderr",
          "text": [
            "/usr/local/lib/python3.7/dist-packages/sklearn/utils/deprecation.py:87: FutureWarning: Function get_feature_names is deprecated; get_feature_names is deprecated in 1.0 and will be removed in 1.2. Please use get_feature_names_out instead.\n",
            "  warnings.warn(msg, category=FutureWarning)\n"
          ]
        }
      ],
      "source": [
        "%matplotlib inline\n",
        "%reload_ext autoreload\n",
        "%autoreload 2\n",
        "\n",
        "import numpy as np\n",
        "import re\n",
        "import matplotlib.pyplot as plt\n",
        "import codecs\n",
        "\n",
        "from logistic_regression import logistic, cost_function, gradient_descent\n",
        "from sklearn.feature_extraction.text import CountVectorizer\n",
        "\n",
        "# Preprocess the SMS Spam Collection data set\n",
        "#  \n",
        "#   https://archive.ics.uci.edu/ml/datasets/SMS+Spam+Collection\n",
        "# \n",
        "# From Dan Sheldon\n",
        "\n",
        "numTrain    = 1000\n",
        "numTest     = 494\n",
        "numFeatures = 3000\n",
        "\n",
        "np.random.seed(1)\n",
        "\n",
        "# Open the file\n",
        "f = codecs.open('sms.txt', encoding='utf-8')\n",
        "\n",
        "labels = []    # list of labels for each message\n",
        "docs   = []    # list of messages\n",
        "\n",
        "# Go through each line of file and extract the label and the message\n",
        "for line in f:\n",
        "    l, d= line.strip().split('\\t', 1)\n",
        "    labels.append(l)\n",
        "    docs.append(d)\n",
        "\n",
        "# This function will be called on each message to preprocess it\n",
        "def preprocess(doc):\n",
        "    # Replace all currency signs and some url patterns by special\n",
        "    # tokens. These are useful features.\n",
        "    doc = re.sub('[£$]', ' __currency__ ', doc)\n",
        "    doc = re.sub('\\://', ' __url__ ', doc)\n",
        "    doc = doc.lower() # convert to lower\n",
        "    return doc\n",
        "\n",
        "\n",
        "# This is the object that does the conversion from text to feature vectors\n",
        "vectorizer = CountVectorizer(max_features=numFeatures, preprocessor=preprocess)\n",
        "\n",
        "# Do the conversion (\"fit\" the transform from text to feature vector. \n",
        "#   later we will also \"apply\" the tranform on test messages)\n",
        "X = vectorizer.fit_transform(docs)\n",
        "\n",
        "# Convert labels to numbers: 1 = spam, 0 = ham\n",
        "y = np.array([l == 'spam' for l in labels]).astype('int')\n",
        "\n",
        "# The vectorizer returns sparse scipy arrays. Convert this back to a dense \n",
        "#   numpy array --- not as efficient but easier to work with\n",
        "X = X.toarray()\n",
        "m,n = X.shape\n",
        "\n",
        "# Add a column of ones\n",
        "X = np.column_stack([np.ones(m), X])\n",
        "\n",
        "# \n",
        "# Now massage and split into test/train\n",
        "# \n",
        "pos = np.nonzero(y == 1)[0]   # indices of positive training examples\n",
        "neg = np.nonzero(y == 0)[0]   # indices of negative training examples\n",
        "\n",
        "npos = len(pos)\n",
        "\n",
        "# Create a subset that has the same number of positive and negative examples\n",
        "subset = np.concatenate([pos, neg[0:len(pos)] ])\n",
        "\n",
        "# Randomly shuffle order of examples\n",
        "np.random.shuffle(subset)\n",
        "      \n",
        "X = X[subset,:]\n",
        "y = y[subset]\n",
        "\n",
        "# Split into test and train\n",
        "train = np.arange(numTrain)\n",
        "test  = numTrain + np.arange(numTest)\n",
        "\n",
        "X_train = X[train,:]\n",
        "y_train = y[train]\n",
        "\n",
        "X_test  = X[test,:]\n",
        "y_test  = y[test]\n",
        "\n",
        "# Extract the list of test documents\n",
        "test_docs = [docs[i] for i in subset[test]]\n",
        "\n",
        "# Extract the list of tokens (words) in the dictionary\n",
        "tokens = vectorizer.get_feature_names()"
      ]
    },
    {
      "cell_type": "markdown",
      "id": "3927d93f",
      "metadata": {
        "id": "3927d93f"
      },
      "source": [
        "# Train logistic regresion model\n",
        "Now train the logistic regression model. The comments summarize the relevant variables created by the preprocessing."
      ]
    },
    {
      "cell_type": "code",
      "execution_count": 7,
      "id": "1506974a",
      "metadata": {
        "scrolled": true,
        "id": "1506974a",
        "colab": {
          "base_uri": "https://localhost:8080/",
          "height": 265
        },
        "outputId": "30f405e6-8cec-4463-a063-b9a6b492fe81"
      },
      "outputs": [
        {
          "output_type": "display_data",
          "data": {
            "text/plain": [
              "<Figure size 432x288 with 1 Axes>"
            ],
            "image/png": "[encoded data removed]"
          },
          "metadata": {
            "needs_background": "light"
          }
        }
      ],
      "source": [
        "# X_train     contains information about the words within the training\n",
        "#             messages. the ith row represents the ith training message. \n",
        "#             for a particular text, the entry in the jth column tells\n",
        "#             you how many times the jth dictionary word appears in \n",
        "#             that message\n",
        "#\n",
        "# X_test      similar but for test set\n",
        "#\n",
        "# y_train     ith entry indicates whether message i is spam\n",
        "#\n",
        "# y_test      similar\n",
        "#\n",
        "\n",
        "m, n = X_train.shape\n",
        "\n",
        "theta = np.zeros(n)\n",
        "\n",
        "\n",
        "# YOUR CODE HERE: \n",
        "#  - learn theta by gradient descent \n",
        "#  - plot the cost history\n",
        "#  - tune step size and # iterations if necessary\n",
        "iterations = 2000\n",
        "alpha = 1e-3\n",
        "theta, costs = gradient_descent(X_train,y_train,theta,alpha,iterations)\n",
        "\n",
        "plt.plot([i for i in range(iterations)], costs, marker='o', linestyle='none')\n",
        "plt.show()\n"
      ]
    },
    {
      "cell_type": "markdown",
      "id": "4eb21730",
      "metadata": {
        "id": "4eb21730"
      },
      "source": [
        "# Make predictions on test set\n",
        "Use the model fit in the previous cell to make predictions on the test set and compute the accuracy (percentage of messages in the test set that are classified correctly). You should be able to get accuracy above 95%.\n"
      ]
    },
    {
      "cell_type": "code",
      "execution_count": 9,
      "id": "a23c4ec2",
      "metadata": {
        "id": "a23c4ec2",
        "colab": {
          "base_uri": "https://localhost:8080/"
        },
        "outputId": "26aee315-fe33-485c-e160-397ec88ff7cd"
      },
      "outputs": [
        {
          "output_type": "stream",
          "name": "stdout",
          "text": [
            "Percentage Correct: 96.5587044534413\n"
          ]
        }
      ],
      "source": [
        "m_test, n_test = X_test.shape\n",
        "\n",
        "# YOUR CODE HERE\n",
        "#  - use theta to make predictions for test set\n",
        "#  - print the accuracy on the test set---i.e., the precent of messages classified correctly\n",
        "my_results = np.dot(X_test,theta)\n",
        "accuracy = 0\n",
        "for i in range(y_test.size):\n",
        "  if my_results[i] < 0 and y_test[i] == 0 or my_results[i] > 0 and y_test[i] == 1:\n",
        "    accuracy = accuracy + 1\n",
        "percentage_correct = (accuracy / y_test.size) * 100\n",
        "print(\"Percentage Correct: \" + str(percentage_correct))"
      ]
    },
    {
      "cell_type": "markdown",
      "id": "8f3d8695",
      "metadata": {
        "id": "8f3d8695"
      },
      "source": [
        "# Inspect model parameters\n",
        "Run this code to examine the model parameters you just learned. These parameters assign a postive or negative value to each word --- where positive values are words that tend to be spam and negative values are words that tend to be ham. Do they make sense?"
      ]
    },
    {
      "cell_type": "code",
      "execution_count": 10,
      "id": "afc7fd61",
      "metadata": {
        "id": "afc7fd61",
        "outputId": "4e6b0893-1676-430a-b6c7-d15596fc3fc3",
        "colab": {
          "base_uri": "https://localhost:8080/"
        }
      },
      "outputs": [
        {
          "output_type": "stream",
          "name": "stdout",
          "text": [
            "Top 10 spam words\n",
            "  +2.9638  __currency__\n",
            "  +2.3588  text\n",
            "  +2.2753  call\n",
            "  +2.1736  txt\n",
            "  +1.9629  reply\n",
            "  +1.9369  service\n",
            "  +1.8324  ringtone\n",
            "  +1.7895  150p\n",
            "  +1.7743  ringtoneking\n",
            "  +1.7151  message\n",
            "\n",
            "Top 10 ham words\n",
            "  -1.4904  my\n",
            "  -1.4637  so\n",
            "  -1.3567  ok\n",
            "  -1.2537  me\n",
            "  -1.2075  later\n",
            "  -1.1830  what\n",
            "  -1.1535  ll\n",
            "  -1.0650  come\n",
            "  -1.0629  he\n",
            "  -1.0145  waiting\n"
          ]
        }
      ],
      "source": [
        "token_weights = theta[1:]\n",
        "\n",
        "def reverse(a):\n",
        "    return a[::-1]\n",
        "\n",
        "most_negative = np.argsort(token_weights)\n",
        "most_positive = reverse(most_negative)\n",
        "\n",
        "k = 10\n",
        "\n",
        "print('Top %d spam words' % k)\n",
        "for i in most_positive[0:k]:\n",
        "    print('  %+.4f  %s' % (token_weights[i], tokens[i]))\n",
        "\n",
        "print('\\nTop %d ham words' % k)\n",
        "for i in most_negative[0:k]:\n",
        "    print('  %+.4f  %s' % (token_weights[i], tokens[i]))\n"
      ]
    },
    {
      "cell_type": "markdown",
      "id": "f8f773ae",
      "metadata": {
        "id": "f8f773ae"
      },
      "source": [
        "## Make a prediction on new messages\n",
        "Type a few of your own messages in below and make predictions. Are they ham or spam? Do the predictions make sense?"
      ]
    },
    {
      "cell_type": "code",
      "execution_count": 18,
      "id": "f2fb5865",
      "metadata": {
        "id": "f2fb5865",
        "colab": {
          "base_uri": "https://localhost:8080/"
        },
        "outputId": "5ae3ed92-d4e9-4358-f89d-a221d0f596aa"
      },
      "outputs": [
        {
          "output_type": "stream",
          "name": "stdout",
          "text": [
            "1.4980429103551671\n",
            "-3.2413077164657205\n",
            "-4.3629934399497765\n",
            "0.26283936229563754\n"
          ]
        }
      ],
      "source": [
        "from IPython.utils.frame import extract_module_locals\n",
        "def extract_features(msg):\n",
        "    x = vectorizer.transform([msg]).toarray()\n",
        "    x = np.insert(x, 0, 1)\n",
        "    return x\n",
        "\n",
        "msg = u'Write your own text here...'\n",
        "x = extract_features(msg)  # this is the feature vector\n",
        "\n",
        "\n",
        "# YOUR CODE HERE\n",
        "#  - try a few texts of your own\n",
        "#  - predict whether they are spam or non-spam\n",
        "#Spam message\n",
        "msg = u'ATTENTION! You are the 999th customer! Please send your social security number for a FREE iPhone!'\n",
        "x = extract_features(msg)\n",
        "print(np.dot(x,theta)) #Positive, so correctly predicts spam.\n",
        "#Non spam message\n",
        "msg = u'Can you call me?'\n",
        "x = extract_features(msg)\n",
        "print(np.dot(x,theta)) #Negative, so correctly predicts ham.\n",
        "#Non spam message\n",
        "msg = u'I uh forgot that sometimes naps need alarms'\n",
        "x = extract_features(msg)\n",
        "print(np.dot(x,theta)) #Negative, so correctly predicts ham.\n",
        "#Spam message\n",
        "msg = u'Welcome to our new # just for Red Cross Blood Donors!'\n",
        "x = extract_features(msg)\n",
        "print(np.dot(x,theta)) #Positive, so correctly predicts spam.\n"
      ]
    },
    {
      "cell_type": "markdown",
      "id": "abaf18bb",
      "metadata": {
        "id": "abaf18bb"
      },
      "source": [
        "# <font color='red'>Problem 4</font>\n"
      ]
    },
    {
      "cell_type": "markdown",
      "id": "e2e5364e",
      "metadata": {
        "id": "e2e5364e"
      },
      "source": [
        "# Hand-Written Digit Classification\n",
        "\n",
        "In this assignment you will implement multi-class classification for\n",
        "hand-written digits and run a few experiments. The file ``digits-py.mat``\n",
        "is a data file containing the data set, which is split into a\n",
        "training set with 4000 examples, and a test set with 1000 examples.\n",
        "\n",
        "You can import the data as a Python dictionary like this:\n",
        "``` .python\n",
        "data = scipy.io.loadmat('digits-py.mat')\n",
        "```\n",
        "\n",
        "The code in the cell below first does some setup and then imports the data\n",
        "into the following variables for training and test data:\n",
        "\n",
        "* ``X_train`` - 2d array shape 4000 x 400\n",
        "* ``y_train`` - 1d array shape 4000\n",
        "* ``X_test`` - 2d array shape 1000 x 400\n",
        "* ``y_test`` - 1d array shape 1000"
      ]
    },
    {
      "cell_type": "code",
      "execution_count": 2,
      "id": "874d076e",
      "metadata": {
        "scrolled": true,
        "id": "874d076e"
      },
      "outputs": [],
      "source": [
        "%matplotlib inline\n",
        "%reload_ext autoreload\n",
        "%autoreload 2\n",
        "\n",
        "import numpy as np\n",
        "import matplotlib.pyplot as plt\n",
        "\n",
        "# Load train and test data\n",
        "import scipy.io\n",
        "data = scipy.io.loadmat('digits-py.mat')\n",
        "X_train = data['X_train']\n",
        "y_train = data['y_train'].ravel()\n",
        "X_test  = data['X_test']\n",
        "y_test  = data['y_test'].ravel()"
      ]
    },
    {
      "cell_type": "markdown",
      "id": "5b934296",
      "metadata": {
        "id": "5b934296"
      },
      "source": [
        "## (2 points) Write code to visualize the data\n",
        "\n",
        "Once you have loaded the data, it is helpful to understand how it represents images. Each row of ``X_train`` and ``X_test`` represents a 20 x 20 image as a vector of length 400 containing the pixel intensity values. To see the original image, you can reshape one row of the train or test data into a 20 x 20 matrix and then visualize it using the matlplotlib ``imshow`` command. \n",
        "\n",
        "Write code using ``np.reshape`` and ``plt.imshow`` to display the 100th training example as an image. (Hint: use ``cmap='gray'`` in ``plt.imshow`` to view as a grayscale image.)"
      ]
    },
    {
      "cell_type": "code",
      "execution_count": 12,
      "id": "df9aa05d",
      "metadata": {
        "id": "df9aa05d",
        "colab": {
          "base_uri": "https://localhost:8080/",
          "height": 282
        },
        "outputId": "889e9c0d-d1e8-41ec-91b1-b17e3fcc8903"
      },
      "outputs": [
        {
          "output_type": "execute_result",
          "data": {
            "text/plain": [
              "<matplotlib.image.AxesImage at 0x7fb6c9507ed0>"
            ]
          },
          "metadata": {},
          "execution_count": 12
        },
        {
          "output_type": "display_data",
          "data": {
            "text/plain": [
              "<Figure size 432x288 with 1 Axes>"
            ],
            "image/png": "[encoded data removed]"
          },
          "metadata": {
            "needs_background": "light"
          }
        }
      ],
      "source": [
        "# Write code here\n",
        "matr_form = np.reshape(X_train[99],(20,20)) #100th training example\n",
        "plt.imshow(matr_form,cmap='gray')"
      ]
    },
    {
      "cell_type": "markdown",
      "id": "d85868af",
      "metadata": {
        "id": "d85868af"
      },
      "source": [
        "## (2 points) Explore the data\n",
        "\n",
        "A utility function ``display_data`` is provided for you to further visualize the data by showing a mosaic of many digits at the same time. For example, you can display the first 25 training examples like this:\n",
        "``` .python\n",
        "display_data( X_train[:25, :] )\n",
        "```\n",
        "\n",
        "Go ahead and do this to visualize the first 25 training examples. Then print the corresponding labels to see if they match."
      ]
    },
    {
      "cell_type": "code",
      "execution_count": 4,
      "id": "1a95c6c9",
      "metadata": {
        "id": "1a95c6c9",
        "colab": {
          "base_uri": "https://localhost:8080/",
          "height": 374
        },
        "outputId": "0f00b2b2-5fee-43d0-b906-9c802223a794"
      },
      "outputs": [
        {
          "output_type": "display_data",
          "data": {
            "text/plain": [
              "<Figure size 432x432 with 1 Axes>"
            ],
            "image/png": "[encoded data removed]"
          },
          "metadata": {
            "needs_background": "light"
          }
        },
        {
          "output_type": "stream",
          "name": "stdout",
          "text": [
            "[8 6 5 4 5 4 9 7 0 2 1 2 9 6 3 8 4 4 8 1 8 0 7 4 8]\n"
          ]
        }
      ],
      "source": [
        "from one_vs_all import display_data #Had to change dashes to underscores to match file name\n",
        "#Write code here\n",
        "display_data( X_train[:25, :] )\n",
        "#Print corresponding labels\n",
        "print(y_train[:25]) #It matches"
      ]
    },
    {
      "cell_type": "markdown",
      "id": "47345785",
      "metadata": {
        "id": "47345785"
      },
      "source": [
        "## Alert: notation change!\n",
        "\n",
        "Please read this carefully to understand the notation used in the assignment. We will use logistic regression to solve multi-class classification. For three reasons (ease of displaying parameters as images, compatibility with scikit learn, previewing notation for SVMs and neural networks), we will change the notation as described here.\n",
        "\n",
        "### Old notation\n",
        "Previously we defined our model as\n",
        "$$\n",
        "h_{\\boldsymbol{\\theta}}(\\mathbf{x}) = \\text{logistic}(\\theta_0 + \\theta_1 x_1 + \\ldots + \\theta_n x_n)  = \\text{logistic}(\\boldsymbol{\\theta}^T \\mathbf{x})\n",
        "$$\n",
        "where \n",
        "\n",
        "* $\\mathbf{x} = \\begin{bmatrix}1, x_1, \\ldots, x_n\\end{bmatrix}$ was a feature vector with a 1 added in the first position\n",
        "* $\\boldsymbol{\\theta} = \\begin{bmatrix}\\theta_0, \\theta_1, \\ldots, \\theta_n\\end{bmatrix}$ was a parameter vector with the intercept parameter $\\theta_0$ in the first position\n",
        "\n",
        "### New notation\n",
        "\n",
        "We will now define our model as\n",
        "$$\n",
        "h_{\\mathbf{w}}(\\mathbf{x}) = \\text{logistic}(b + w_1 x_1 + \\ldots + w_n x_n)  = \\text{logistic}(\\mathbf{w}^T \\mathbf{x} + b)\n",
        "$$\n",
        "where \n",
        "\n",
        "* $\\mathbf{x} \\in \\mathbb{R}^n$ is the **original feature vector** with no 1 added\n",
        "* $\\mathbf{w} \\in \\mathbb{R}^n$ is a **weight vector** (equivalent to $\\theta_1, \\ldots, \\theta_n$ in the old notation)\n",
        "* $b$ is a scalar **intercept parameter** (equivalent to $\\theta_0$ in our old notation)"
      ]
    },
    {
      "cell_type": "markdown",
      "id": "4e81b8d0",
      "metadata": {
        "id": "4e81b8d0"
      },
      "source": [
        "## (10 points) One-vs-All Logistic Regression\n",
        "\n",
        "Now you will implement one vs. all multi-class classification using logistic regression. Recall the method presented in class. Suppose we are solving a $K$ class problem given training examples in the data matrix $X \\in \\mathbb{R}^{m \\times n}$ and label vector\n",
        "$\\mathbf{y} \\in \\mathbb{R}^{m}$ (the entries of $\\mathbf{y}$ can be from $1$ to\n",
        "$K$). \n",
        "\n",
        "**For each class $c = 1,\\ldots,K$**, fit a logistic regression model\n",
        "to distinguish class $c$ from the others using the\n",
        "labels\n",
        "\n",
        "$$\n",
        "y_c^{(i)} = \n",
        "\\begin{cases}\n",
        "1 & \\text{if } y^{(i)} = c \\\\\n",
        "0 & \\text{otherwise}.\n",
        "\\end{cases}\n",
        "$$\n",
        "\n",
        "This training\n",
        "procedure  will result in a weight vector $\\mathbf{w}_c$ and an intercept parameter $b_c$\n",
        "that can be used to predict the probability that a new example $\\mathbf{x}$ belongs to class $c$:\n",
        "\n",
        "$$\n",
        "\\text{logistic}(\\mathbf{w}_c^T \\mathbf{x} + b_c) = \\text{probability that $\\mathbf{x}$\n",
        "  belongs to class $c$}.\n",
        "$$\n",
        "\n",
        "The overall training procedure will yield one weight vector for each\n",
        "class. To make the final prediction for a new example, select the\n",
        "class with highest predicted probability:\n",
        "\n",
        "$$\n",
        "\\text{predicted class} = \\text{the value of $c$ that maximizes } \\text{logistic}(\\mathbf{w}_c^T \\mathbf{x} + b_c).\n",
        "$$"
      ]
    },
    {
      "cell_type": "markdown",
      "id": "ef11ddca",
      "metadata": {
        "id": "ef11ddca"
      },
      "source": [
        "### Training ###\n",
        "\n",
        "Open the file ``one_vs_all.py`` and complete the function ``train_one_vs_all`` \n",
        "to train binary classifiers using the procedure outlined \n",
        "above. I have included a function for training a regularized logistic regression \n",
        "model, which you can call like this:\n",
        "\n",
        "``` .python\n",
        "weight_vector, intercept = fit_logistic_regression(X, y, lambda_val)\n",
        "```\n",
        "\n",
        "Follow the instructions in the file for more details. Once you are done, test your implementation by running the code below to train the model and display the weight \n",
        "vectors as images. You should see images that are recognizable as the digits 0 through 9 (some are only vague impressions of the digit)."
      ]
    },
    {
      "cell_type": "code",
      "execution_count": 17,
      "id": "c9cd6523",
      "metadata": {
        "id": "c9cd6523",
        "colab": {
          "base_uri": "https://localhost:8080/",
          "height": 282
        },
        "outputId": "926559d1-65fc-4661-a620-07b317afbac0"
      },
      "outputs": [
        {
          "output_type": "display_data",
          "data": {
            "text/plain": [
              "<Figure size 432x432 with 1 Axes>"
            ],
            "image/png": "[encoded data removed]"
          },
          "metadata": {
            "needs_background": "light"
          }
        }
      ],
      "source": [
        "from one_vs_all import train_one_vs_all\n",
        "\n",
        "lambda_val = 100 #100\n",
        "weight_vectors, intercepts = train_one_vs_all(X_train, y_train, 10, lambda_val)\n",
        "display_data(weight_vectors.T) # display weight vectors as images"
      ]
    },
    {
      "cell_type": "markdown",
      "id": "b02d87bb",
      "metadata": {
        "id": "b02d87bb"
      },
      "source": [
        "### Predictions\n",
        "\n",
        "Now complete the function ``predict_one_vs_all`` in ``one_vs_all.py`` and run the code below to make predictions on the train and test sets. You should see accuracy around 88% on the test set."
      ]
    },
    {
      "cell_type": "code",
      "execution_count": 19,
      "id": "f2c55f75",
      "metadata": {
        "scrolled": true,
        "id": "f2c55f75",
        "colab": {
          "base_uri": "https://localhost:8080/"
        },
        "outputId": "697f487a-f013-41ea-d37d-db20a5259ea6"
      },
      "outputs": [
        {
          "output_type": "stream",
          "name": "stdout",
          "text": [
            "Training Set Accuracy: 89.275000\n",
            "    Test Set Accuracy: 88.300000\n"
          ]
        }
      ],
      "source": [
        "from one_vs_all import predict_one_vs_all\n",
        "\n",
        "pred_train = predict_one_vs_all(X_train, weight_vectors, intercepts)\n",
        "pred_test  = predict_one_vs_all(X_test,  weight_vectors, intercepts)\n",
        "\n",
        "print(\"Training Set Accuracy: %f\" % (np.mean(pred_train == y_train) * 100))\n",
        "print(\"    Test Set Accuracy: %f\" % (np.mean( pred_test == y_test) * 100))\n"
      ]
    },
    {
      "cell_type": "markdown",
      "id": "7d7871ed",
      "metadata": {
        "id": "7d7871ed"
      },
      "source": [
        "## (5 points) Regularization Experiment\n",
        "\n",
        "Now you will experiment with different values of the regularization \n",
        "parameter $\\lambda$ to control overfitting. Write code to measure the training \n",
        "and test accuracy for values of $\\lambda$ that are powers of 10 ranging from \n",
        "$10^{-3}$ to $10^5$.\n",
        "\n",
        "* Display the weight vectors for each value of $\\lambda$ as an image using the ``display_data`` function\n",
        "* Save the training and test accuracy for each value of $\\lambda$\n",
        "* Plot training and test accuracy versus lambda (in one plot). "
      ]
    },
    {
      "cell_type": "code",
      "execution_count": 20,
      "id": "e31adb63",
      "metadata": {
        "scrolled": false,
        "id": "e31adb63",
        "colab": {
          "base_uri": "https://localhost:8080/",
          "height": 1000
        },
        "outputId": "512291b7-d312-4b00-ab82-17c491a98055"
      },
      "outputs": [
        {
          "output_type": "display_data",
          "data": {
            "text/plain": [
              "<Figure size 432x432 with 1 Axes>"
            ],
            "image/png": "[encoded data removed]"
          },
          "metadata": {
            "needs_background": "light"
          }
        },
        {
          "output_type": "display_data",
          "data": {
            "text/plain": [
              "<Figure size 432x432 with 1 Axes>"
            ],
            "image/png": "[encoded data removed]"
          },
          "metadata": {
            "needs_background": "light"
          }
        },
        {
          "output_type": "display_data",
          "data": {
            "text/plain": [
              "<Figure size 432x432 with 1 Axes>"
            ],
            "image/png": "[encoded data removed]"
          },
          "metadata": {
            "needs_background": "light"
          }
        },
        {
          "output_type": "display_data",
          "data": {
            "text/plain": [
              "<Figure size 432x432 with 1 Axes>"
            ],
            "image/png": "[encoded data removed]"
          },
          "metadata": {
            "needs_background": "light"
          }
        },
        {
          "output_type": "display_data",
          "data": {
            "text/plain": [
              "<Figure size 432x432 with 1 Axes>"
            ],
            "image/png": "[encoded data removed]"
          },
          "metadata": {
            "needs_background": "light"
          }
        },
        {
          "output_type": "display_data",
          "data": {
            "text/plain": [
              "<Figure size 432x432 with 1 Axes>"
            ],
            "image/png": "[encoded data removed]"
          },
          "metadata": {
            "needs_background": "light"
          }
        },
        {
          "output_type": "display_data",
          "data": {
            "text/plain": [
              "<Figure size 432x432 with 1 Axes>"
            ],
            "image/png": "[encoded data removed]"
          },
          "metadata": {
            "needs_background": "light"
          }
        },
        {
          "output_type": "display_data",
          "data": {
            "text/plain": [
              "<Figure size 432x432 with 1 Axes>"
            ],
            "image/png": "[encoded data removed]"
          },
          "metadata": {
            "needs_background": "light"
          }
        },
        {
          "output_type": "display_data",
          "data": {
            "text/plain": [
              "<Figure size 432x432 with 1 Axes>"
            ],
            "image/png": "[encoded data removed]"
          },
          "metadata": {
            "needs_background": "light"
          }
        },
        {
          "output_type": "display_data",
          "data": {
            "text/plain": [
              "<Figure size 432x288 with 1 Axes>"
            ],
            "image/png": "[encoded data removed]"
          },
          "metadata": {
            "needs_background": "light"
          }
        }
      ],
      "source": [
        "lambda_vals = 10**np.arange(-3., 6.) #Second arg changed to 6 to include 1e5\n",
        "num_classes = 10\n",
        "#print(lambda_vals)\n",
        "training_accuracy = []\n",
        "test_accuracy = []\n",
        "\n",
        "# Write code here\n",
        "for lambda_val in lambda_vals:\n",
        "  #Calculate weight vectors and intercepts and display the weight vectors\n",
        "  weight_vectors, intercepts = train_one_vs_all(X_train, y_train, num_classes, lambda_val)\n",
        "  display_data(weight_vectors.T)\n",
        "  #Calculate the training and test accuracy \n",
        "  pred_train = predict_one_vs_all(X_train, weight_vectors, intercepts)\n",
        "  pred_test  = predict_one_vs_all(X_test,  weight_vectors, intercepts)\n",
        "  #Save the training and test accuracy\n",
        "  training_accuracy.append(np.mean(pred_train == y_train) * 100)\n",
        "  test_accuracy.append(np.mean(pred_test == y_test) * 100)\n",
        "\n",
        "# In your final plot, use these commands to provide a legend and set \n",
        "# the horizontal axis to have a logarithmic scale so the value of lambda \n",
        "# appear evenly spaced.\n",
        "\n",
        "#plt.legend(('train', 'test'))\n",
        "plt.xscale('log')\n",
        "\n",
        "plt.plot(lambda_vals,training_accuracy,'rs-',label = 'train')\n",
        "plt.plot(lambda_vals,test_accuracy,'go-',label='test')\n",
        "plt.legend()\n",
        "plt.show()"
      ]
    },
    {
      "cell_type": "markdown",
      "id": "9adfe03a",
      "metadata": {
        "id": "9adfe03a"
      },
      "source": [
        "## (5 points) Regularization Questions \n",
        "\n",
        "1. Does the plot show any evidence of overfitting? If so, for what range of λ values (roughly) is the model overfit? What do the images of the weight vectors look when the model is overfit? \n",
        "\n",
        "2. Does the plot show any evidence of underfitting? For what range of λ values (roughly) is the model underfit? What do the images of the weight vectors look like when the model is underfit?\n",
        "\n",
        "3. If you had to choose one value of λ, what would you select?\n",
        "\n",
        "4. Would it make sense to run any additional experiments to look for a better value of λ. If so, what values would you try? \n",
        "\n",
        "** *Your answers here* **\n",
        "\n",
        "1) The plot shows evidence of overfitting for lambdas smaller than 10, since test accuracy decreases from its peak at lambda = 10 when lambda decreases from that point, while training accuracy increases. The images of the weight vectors look extremely blurry and fuzzy, like hundreds of dots, when the model is overfit.\n",
        "2) The plot shows evidence of underfitting for lambdas larger than 10, since both test and training accuracy decrease as lambda increases from 10. The images of the weight vectors look very sharp and clearly defined when the model is underfit.\n",
        "3) I would choose lambda = 10 to minimize test error.\n",
        "4) It would make sense to run more experiments to try and find the precise peak of test accuracy between lambda = 1 and lambda = 100. I would try more values between 1 and 100, say 1 through 10 (1, 2, 3...10) and each multiple of 10 (10, 20, 30, etc), until I zero in on the best lambda value."
      ]
    },
    {
      "cell_type": "markdown",
      "id": "dd830837",
      "metadata": {
        "id": "dd830837"
      },
      "source": [
        "## (6 points) Learning Curve\n",
        "\n",
        "A learning curve shows accuracy on the vertical axis vs. the amount \n",
        "of training data used to learn the model on the horizontal axis. To \n",
        "produce a learning curve, train a sequence of models using subsets \n",
        "of the available training data, starting with only a small fraction \n",
        "of the data and increasing the amount until all of the training data\n",
        "is used. \n",
        "\n",
        "Write code below to train models on training sets of increasing size\n",
        "and then plot both training and test accuracy vs. the amount of training data used.\n",
        "(This time, you do not need to display the weight vectors as images and you \n",
        "will not set the horizontal axis to have log-scale.) \n",
        "\n",
        "#### In this problem, please use the best value of $\\lambda$ you have found. "
      ]
    },
    {
      "cell_type": "code",
      "execution_count": 21,
      "id": "06ee25f2",
      "metadata": {
        "scrolled": false,
        "id": "06ee25f2",
        "colab": {
          "base_uri": "https://localhost:8080/",
          "height": 265
        },
        "outputId": "f6b69104-ae39-411a-f90b-a97f9c242f8d"
      },
      "outputs": [
        {
          "output_type": "display_data",
          "data": {
            "text/plain": [
              "<Figure size 432x288 with 1 Axes>"
            ],
            "image/png": "[encoded data removed]"
          },
          "metadata": {
            "needs_background": "light"
          }
        }
      ],
      "source": [
        "m, n = X_train.shape\n",
        "#Note - middle arg changed to 4250 so as to include the full set in train_sizes\n",
        "train_sizes = np.arange(250, 4250, 250) #4000 originally\n",
        "nvals = len(train_sizes)\n",
        "\n",
        "# Example: select a subset of 100 training examples\n",
        "p = np.random.permutation(m)\n",
        "selected_examples = p[0:100]\n",
        "X_train_small = X_train[selected_examples,:]\n",
        "y_train_small = y_train[selected_examples]\n",
        "\n",
        "# Write your code here\n",
        "#print(train_sizes)\n",
        "#Set lambda_val to 10\n",
        "lambda_val = 10\n",
        "#Instantiate storage lists for training and testing accuracy\n",
        "training_accuracy = []\n",
        "test_accuracy = []\n",
        "#Loop through every size in the training size vector\n",
        "for train_size in train_sizes:\n",
        "  #Create a permutation of size train_size\n",
        "  p = np.random.permutation(m)\n",
        "  selected_examples = p[0:train_size]\n",
        "  X_train_small = X_train[selected_examples,:]\n",
        "  y_train_small = y_train[selected_examples]\n",
        "  #Train the model\n",
        "  weight_vectors, intercepts = train_one_vs_all(X_train_small, y_train_small, num_classes, lambda_val)\n",
        "  #Find the accuracy for both training and testing values\n",
        "  pred_train = predict_one_vs_all(X_train_small, weight_vectors, intercepts)\n",
        "  pred_test  = predict_one_vs_all(X_test,  weight_vectors, intercepts)\n",
        "  #Store the accuracy for both testing and training values\n",
        "  training_accuracy.append(np.mean(pred_train == y_train_small) * 100)\n",
        "  test_accuracy.append(np.mean(pred_test == y_test) * 100)\n",
        "\n",
        "#Plot training and testing accuracy vs amount of data used\n",
        "plt.plot(train_sizes,training_accuracy,'rs-',label = 'train')\n",
        "plt.plot(train_sizes,test_accuracy,'go-',label='test')\n",
        "plt.legend()\n",
        "plt.show()"
      ]
    },
    {
      "cell_type": "markdown",
      "id": "9fdb013e",
      "metadata": {
        "scrolled": true,
        "id": "9fdb013e"
      },
      "source": [
        "# (4 points) Learning Curve Questions\n",
        "\n",
        "1. Does the learning curve show evidence that additional training data might improve performance on the test set? Why or why not?\n",
        "\n",
        "2. Is the any relationship between the amount of training data used and the propensity of the model to overfit? Explain what you can conclude from the plot.\n",
        "\n",
        "** *Your answers here* **\n",
        "1) It shows some evidence that more training data might improve performance, but not much, since testing and training accuracy are clearly converging by n = 4000 data points, so there's not much room for improvement.\n",
        "2) More data means lower propensity to overfit. You can see that with lower data, training error is low and testing error is high, as we'd expect from overfitting, but this goes away as data increases."
      ]
    }
  ],
  "metadata": {
    "anaconda-cloud": {},
    "kernelspec": {
      "display_name": "Python 3 (ipykernel)",
      "language": "python",
      "name": "python3"
    },
    "language_info": {
      "codemirror_mode": {
        "name": "ipython",
        "version": 3
      },
      "file_extension": ".py",
      "mimetype": "text/x-python",
      "name": "python",
      "nbconvert_exporter": "python",
      "pygments_lexer": "ipython3",
      "version": "3.9.12"
    },
    "colab": {
      "provenance": [],
      "collapsed_sections": []
    }
  },
  "nbformat": 4,
  "nbformat_minor": 5
}